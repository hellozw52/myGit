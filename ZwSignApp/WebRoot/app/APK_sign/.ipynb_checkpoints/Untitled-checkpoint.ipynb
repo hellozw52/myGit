{
 "cells": [
  {
   "cell_type": "code",
   "execution_count": 5,
   "metadata": {},
   "outputs": [
    {
     "name": "stdout",
     "output_type": "stream",
     "text": [
      "to start generating the apk signed file: tv_box_release_unsigned.apk\n",
      "generating the apk signed file...\n",
      "th apk signed file: tv_box_release_unsigned.apk, well done!\n",
      "to start generating the apk signed file: tv_doctor_henancatv_2018_4_22.apk\n",
      "generating the apk signed file...\n",
      "th apk signed file: tv_doctor_henancatv_2018_4_22.apk, well done!\n",
      "to start generating the apk signed file: tv_home_henancatv_2018_4_22.apk\n",
      "generating the apk signed file...\n",
      "th apk signed file: tv_home_henancatv_2018_4_22.apk, well done!\n"
     ]
    }
   ],
   "source": [
    "import os \n",
    "import subprocess\n",
    "import time\n",
    "\n",
    "file_dir = r'D:\\APK_sign\\app_original'\n",
    "\n",
    "file_names = []\n",
    "output_names = []\n",
    "\n",
    "def get_files(file_dir):\n",
    "    for file in os.listdir(file_dir):\n",
    "        file_names.append(file)\n",
    "    return file_names\n",
    "\n",
    "def func(name):\n",
    "    body,ext = name.split('.')\n",
    "    return body + '_signed' + '.' + ext\n",
    "        \n",
    "file_names = get_files(file_dir)\n",
    "output_names = list(map(func, file_names))\n",
    "\n",
    "\n",
    "output_dir = r'D:\\APK_sign\\app_sign'\n",
    "\n",
    "with open(r\"./py_cmd_log.txt\",'w',encoding='utf-8') as fhandle:\n",
    "\n",
    "    for file_name, output_name in zip(file_names,output_names):\n",
    "        output_dir_file = os.path.join(output_dir,output_name)\n",
    "        #  if output file is not exist,then generate it\n",
    "        print('to start generating the apk signed file: %s' % file_name)\n",
    "        cmd_line = \"sign_apk.bat\" \n",
    "        params = [cmd_line, file_name, output_name]\n",
    "        cmd = ' '.join(params)\n",
    "        pipe = subprocess.Popen(cmd, stdout=fhandle).stdout \n",
    "        print('generating the apk signed file...')\n",
    "        time.sleep(3)\n",
    "        \n",
    "        print('th apk signed file: %s, well done!' % file_name)\n"
   ]
  },
  {
   "cell_type": "code",
   "execution_count": null,
   "metadata": {},
   "outputs": [],
   "source": []
  },
  {
   "cell_type": "code",
   "execution_count": null,
   "metadata": {},
   "outputs": [],
   "source": []
  }
 ],
 "metadata": {
  "kernelspec": {
   "display_name": "Python 3",
   "language": "python",
   "name": "python3"
  },
  "language_info": {
   "codemirror_mode": {
    "name": "ipython",
    "version": 3
   },
   "file_extension": ".py",
   "mimetype": "text/x-python",
   "name": "python",
   "nbconvert_exporter": "python",
   "pygments_lexer": "ipython3",
   "version": "3.6.1"
  }
 },
 "nbformat": 4,
 "nbformat_minor": 2
}
