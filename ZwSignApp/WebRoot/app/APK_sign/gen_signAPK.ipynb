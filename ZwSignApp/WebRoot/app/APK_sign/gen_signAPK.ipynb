{
 "cells": [
  {
   "cell_type": "code",
   "execution_count": 13,
   "metadata": {},
   "outputs": [
    {
     "name": "stdout",
     "output_type": "stream",
     "text": [
      "============================================================\n",
      "to sign file: tv_box_release_unsigned.apk\n",
      "generating ...\n",
      "well done!: tv_box_release_unsigned.apk\n",
      "============================================================\n",
      "to sign file: tv_doctor_henancatv_2018_4_22.apk\n",
      "generating ...\n",
      "well done!: tv_doctor_henancatv_2018_4_22.apk\n",
      "============================================================\n",
      "to sign file: tv_home_henancatv_2018_4_22.apk\n",
      "generating ...\n",
      "well done!: tv_home_henancatv_2018_4_22.apk\n",
      "============================================================\n",
      "all finished!\n",
      "************************************************************\n"
     ]
    }
   ],
   "source": [
    "# -*- coding: utf-8 -*-\n",
    "\n",
    "\n",
    "\"\"\"\n",
    "@version: ??\n",
    "@author: Binge\n",
    "@file: gen_signAPK.py\n",
    "@time: 2018/4/12 10:06\n",
    "@description:\n",
    "环境要求：python3环境\n",
    "\n",
    "py文件 在目录 APK_sign/\n",
    "搜索app_original目录下所有apk文件，然后在app_sign目录批量生成apk签名文件。\n",
    "同时生成日志文件：py_sign_log.txt\n",
    "\n",
    "\"\"\"\n",
    "\n",
    "import os \n",
    "import subprocess\n",
    "import time\n",
    "\n",
    "file_dir = r'./app_original'\n",
    "\n",
    "file_names = []\n",
    "output_names = []\n",
    "\n",
    "def get_files(file_dir):\n",
    "    for file in os.listdir(file_dir):\n",
    "        file_names.append(file)\n",
    "    return file_names\n",
    "\n",
    "def func(name):\n",
    "    body,ext = name.split('.')\n",
    "    return body + '_signed' + '.' + ext\n",
    "        \n",
    "file_names = get_files(file_dir)\n",
    "output_names = list(map(func, file_names))\n",
    "\n",
    "\n",
    "output_dir = r'./app_sign'\n",
    "\n",
    "with open(r\"./py_cmd_log.txt\",'w',encoding='utf-8') as fhandle:\n",
    "\n",
    "    for file_name, output_name in zip(file_names,output_names):\n",
    "        output_dir_file = os.path.join(output_dir,output_name)\n",
    "       \n",
    "        print('============================================================')\n",
    "        print('to sign file: %s' % file_name)\n",
    "        cmd_line = \"sign_apk.bat\" \n",
    "        params = [cmd_line, file_name, output_name]\n",
    "        cmd = ' '.join(params)\n",
    "        pipe = subprocess.Popen(cmd, shell=True,stdout=fhandle).stdout \n",
    "        print('generating ...')\n",
    "        time.sleep(3)\n",
    "        \n",
    "        print('well done!: %s' % file_name)\n",
    "print('============================================================')\n",
    "print('all finished!')\n",
    "print('************************************************************')"
   ]
  },
  {
   "cell_type": "code",
   "execution_count": null,
   "metadata": {},
   "outputs": [],
   "source": []
  },
  {
   "cell_type": "code",
   "execution_count": null,
   "metadata": {},
   "outputs": [],
   "source": []
  }
 ],
 "metadata": {
  "kernelspec": {
   "display_name": "Python 3",
   "language": "python",
   "name": "python3"
  },
  "language_info": {
   "codemirror_mode": {
    "name": "ipython",
    "version": 3
   },
   "file_extension": ".py",
   "mimetype": "text/x-python",
   "name": "python",
   "nbconvert_exporter": "python",
   "pygments_lexer": "ipython3",
   "version": "3.6.1"
  }
 },
 "nbformat": 4,
 "nbformat_minor": 2
}
